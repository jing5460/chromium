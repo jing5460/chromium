{
  "nbformat": 4,
  "nbformat_minor": 0,
  "metadata": {
    "colab": {
      "name": "v4.3.ipynb",
      "provenance": [],
      "toc_visible": true,
      "include_colab_link": true
    },
    "kernelspec": {
      "name": "python3",
      "display_name": "Python 3"
    }
  },
  "cells": [
    {
      "cell_type": "markdown",
      "metadata": {
        "id": "view-in-github",
        "colab_type": "text"
      },
      "source": [
        "<a href=\"https://colab.research.google.com/github/jing5460/chromium/blob/master/%E5%82%BB%E7%93%9C%E5%BC%8F%E7%AA%81%E7%A0%B4750Gv4_3.ipynb\" target=\"_parent\"><img src=\"https://colab.research.google.com/assets/colab-badge.svg\" alt=\"Open In Colab\"/></a>"
      ]
    },
    {
      "cell_type": "markdown",
      "metadata": {
        "id": "V2w7tWhPhbTB",
        "colab_type": "text"
      },
      "source": [
        "<a href=\"https://github.com/totalleecher/Codemaster\">\n",
        "<img src=\"https://lh3.googleusercontent.com/1pw-tHjrkmMgnr63nxOQStYnpVkieXKP9-1RafDRtHBAQ65cN7GcsNKf4k0rWsB--W8d\" height=100px, align=\"left\"></a>\n",
        "\n",
        "\n",
        "\n",
        "\n",
        "\n",
        "\n",
        "\n",
        "\n",
        "\n",
        "\n",
        "\n",
        "<center><h3>Modified by <a href=\"https://t.me/plsharevme\">Eric Li</a></h1><h1>人人发资源` 专用突破 750Gb 限制\n",
        "有问题点击联络我。"
      ]
    },
    {
      "cell_type": "markdown",
      "metadata": {
        "id": "Cqy3vXXOMI06",
        "colab_type": "text"
      },
      "source": [
        "### <font size=5px color=\"red\">✦ *Google Colab 突破90分钟自动断开:</font>\n",
        "<p><font size=3px > 每60分钟自动运行代码以刷新90分钟断开限制. 打开 developer-settings (在你的浏览器) 快速健 Ctrl+Shift+I 然后按console 输入以下代码 Enter. ( mac 按 Option+Command+I)</p><b>复制以下隐藏代码粉贴在浏览器console！！不要关闭浏览器以免失效</b>"
      ]
    },
    {
      "cell_type": "markdown",
      "metadata": {
        "id": "3Z8cK8h2Avbv",
        "colab_type": "text"
      },
      "source": [
        "<code>function ClickConnect(){\n",
        "console.log(\"Working\"); \n",
        "document.querySelector(\"colab-connect-button\").click() \n",
        "}setInterval(ClickConnect,6000)</code>"
      ]
    },
    {
      "cell_type": "code",
      "metadata": {
        "id": "jtClEMAMLVHw",
        "colab_type": "code",
        "cellView": "form",
        "colab": {}
      },
      "source": [
        "#@markdown <h3>← 输入了代码后运行以防止断开</h>\n",
        "\n",
        "\n",
        "import IPython\n",
        "from google.colab import output\n",
        "\n",
        "display(IPython.display.Javascript('''\n",
        " function ClickConnect(){\n",
        "   btn = document.querySelector(\"colab-connect-button\")\n",
        "   if (btn != null){\n",
        "     console.log(\"Click colab-connect-button\"); \n",
        "     btn.click() \n",
        "     }\n",
        "   \n",
        "   btn = document.getElementById('ok')\n",
        "   if (btn != null){\n",
        "     console.log(\"Click reconnect\"); \n",
        "     btn.click() \n",
        "     }\n",
        "  }\n",
        "  \n",
        "setInterval(ClickConnect,60000)\n",
        "'''))\n",
        "\n",
        "print(\"Done.\")"
      ],
      "execution_count": null,
      "outputs": []
    },
    {
      "cell_type": "markdown",
      "metadata": {
        "colab_type": "text",
        "id": "nnK31oX-jC5p"
      },
      "source": [
        "### <img src='https://rclone.org/img/rclone-32x32.png' height=\"46\" alt=\"rclone\"/>__Autorclone__\n",
        "<font size=3px><b> ✧  谷歌突破 750GB 限制</h6>\n"
      ]
    },
    {
      "cell_type": "code",
      "metadata": {
        "colab_type": "code",
        "cellView": "form",
        "id": "W61wx2ZLjC52",
        "colab": {}
      },
      "source": [
        "#@markdown <h3><b>←</b> 第一步。 安装rclone配置环境</h3>\n",
        "\n",
        "!curl https://rclone.org/install.sh | sudo bash\n",
        "###\n",
        "%cd /content/\n",
        "!git clone https://github.com/totalleecher/AutoRclone.git\n",
        "###\n",
        "%cd /content/AutoRclone\n",
        "!sudo pip3 install -r requirements.txt\n",
        "\n",
        "from IPython.display import HTML, clear_output\n",
        "clear_output()\n",
        "print(\"Successfully Installed\")"
      ],
      "execution_count": null,
      "outputs": []
    },
    {
      "cell_type": "code",
      "metadata": {
        "colab_type": "code",
        "cellView": "form",
        "id": "XbcSRo0RjC6P",
        "colab": {}
      },
      "source": [
        "#@markdown <h3><b>←</b>第二步。 启动 Drive Api & 下载 credentials.json到本机</h3>\n",
        "!python3 gen_sa_accounts.py --quick-setup -1\n",
        "\n",
        "from IPython.display import Image, display\n",
        "display(Image(url = \"https://s3.us-east-2.amazonaws.com/upload-icon/uploads/icons/png/4877197251571661812-512.png\"))"
      ],
      "execution_count": null,
      "outputs": []
    },
    {
      "cell_type": "code",
      "metadata": {
        "colab_type": "code",
        "cellView": "form",
        "id": "N8fETzRpjC6s",
        "colab": {}
      },
      "source": [
        "#@markdown <h3><b>←</b>第三步。 把刚刚下载的 \"credentials.json\"上传</h3>\n",
        "\n",
        "from google.colab import files\n",
        "uploaded = files.upload()"
      ],
      "execution_count": null,
      "outputs": []
    },
    {
      "cell_type": "code",
      "metadata": {
        "colab_type": "code",
        "cellView": "form",
        "id": "LMoXkToAjC69",
        "colab": {}
      },
      "source": [
        "#@markdown <h3><b>←</b>第四步。 在已有项目上生成Service Accounts  \"如果你已经有SA可以略过\"4和5步是选项，如100SA 不够就忽略运行第五步。</h3>\n",
        "\n",
        "!python3 gen_sa_accounts.py --quick-setup -1"
      ],
      "execution_count": null,
      "outputs": []
    },
    {
      "cell_type": "code",
      "metadata": {
        "colab_type": "code",
        "cellView": "form",
        "id": "xIasBR9wZaMP",
        "colab": {}
      },
      "source": [
        "#@markdown <h3><b>←</b>第五步。 已有项目，需要创建新的\"输入要健的项目数字比如5代表共创建5个项目共500个SA，建议用googlegroups来管理。</h3>\n",
        "\n",
        "numbers = \"1\" #@param [\"1\", \"2\", \"3\", \"4\", \"5\"]\n",
        "\n",
        "!python3 gen_sa_accounts.py --quick-setup \"$numbers\" --new-only"
      ],
      "execution_count": null,
      "outputs": []
    },
    {
      "cell_type": "markdown",
      "metadata": {
        "id": "vGIC3QKIIpfb",
        "colab_type": "text"
      },
      "source": [
        "<font size=\"4\" color=red><b>如果第四步一直出错有可能你还没有任何project按这里打开<a href=\"https://console.developers.google.com/\" target=\"_blank\">Google Cloud Platform</a> ，在左上角 GoogleAPIs 旁边按 Select a project 在弹出来的窗口右上角按 NEW PROJECT. 然后按 CREATE. 在倒回去运行第四步。</b></font>"
      ]
    },
    {
      "cell_type": "markdown",
      "metadata": {
        "colab_type": "text",
        "id": "eplOxOmrjC7R"
      },
      "source": [
        "### 方法1 (把 Services Acc 加到 **Team Drive**)"
      ]
    },
    {
      "cell_type": "code",
      "metadata": {
        "colab_type": "code",
        "cellView": "form",
        "id": "_-MmxPYFjC7W",
        "colab": {}
      },
      "source": [
        "#@markdown <h3><b>← 运行把所有SA 加到 Team Drive</b></h3>\n",
        "#@markdown </h5>团队盘 ID (TDid) = https://drive.google.com/drive/folders/之后所有的字母</code></h5>\n",
        "#@markdown <h5><b>请耐心等待增加 SA 会消耗一点时间</b></h5> \n",
        "import os\n",
        "TDid = \"0AFythliNB3iTUk9PVA\" #@param {type:\"string\"}\n",
        "!python3 add_to_team_drive.py -d \"$TDid\""
      ],
      "execution_count": null,
      "outputs": []
    },
    {
      "cell_type": "markdown",
      "metadata": {
        "id": "_cHHnNWPVILR",
        "colab_type": "text"
      },
      "source": [
        "### 方法2 (把SA加到 Googlegroups 方便管理多个SA） **推荐**"
      ]
    },
    {
      "cell_type": "code",
      "metadata": {
        "id": "m2cTTOFKX9g7",
        "colab_type": "code",
        "cellView": "form",
        "colab": {}
      },
      "source": [
        "#@markdown <h3><b>←</b>运行后在已经加载的 AutoRclone\\Accounts 里会生成 !email.txt 下载到本地 点击<a href=\"https://drive.google.com/drive/u/4/folders/1qyMiY-nHyQiUA0AESu0NddWavN5k1_Aj\" target=\"_blank\">视频3</a>跟着做。\n",
        "\n",
        "#@markdown *   点击 <a href=\"https://groups.google.com/d/homeredir\" target=\"_blank\">Google groups</a>然后按 CREATE GROUP...放你要的名字后按 CREATE ,打开刚下载的 <code>!emails.txt</code> - <b>打开视频3跟着做</b> [Googlegroups 限制一次只可加10个我们要重复10次一天上限100个]\n",
        "#@markdown *   把刚刚做的 Googegroups 加到要拷贝的目标团队盘如要对拷贝就两个团队盘都加入。\n",
        "#@markdown *   感谢@Roshanconnor 的建议。\n",
        "%cd /content/AutoRclone/accounts/\n",
        "!grep -oPh '\"client_email\": \"\\K[^\"]+' *.json > !emails.txt\n"
      ],
      "execution_count": null,
      "outputs": []
    },
    {
      "cell_type": "markdown",
      "metadata": {
        "id": "XCiA0yRMxM5T",
        "colab_type": "text"
      },
      "source": [
        "### **<font size=5px color=bule><<<<<<<<<<<<<<<<<<<<准备就绪开始拷贝>>>>>>>>>>>>>>>>>>>>**"
      ]
    },
    {
      "cell_type": "code",
      "metadata": {
        "colab_type": "code",
        "cellView": "form",
        "id": "ItewOXbSjC7r",
        "colab": {}
      },
      "source": [
        "#@markdown <p>- <b>增加要拷贝的源 ID （分享的资源） 和 转存的文件夹 ID （一般是自己的团队盘）</p>\n",
        "#@markdown <p>- 注意: 你的源文件 ID*** *(*`src`*)* ***文件夹或文件要公开分享的***</p>\n",
        "\n",
        "#@markdown <b>- 分享的文件夹 ID 如图下 folder/后面的字符: 只是粉贴后面的字符</b>\n",
        "#@markdown ![](https://yuju.pw/y/qNvy.png)\n",
        "\n",
        "#@title <h3><b>←</b> Run to clone all folders + files from <code>src</code> to <code>dest</code>\n",
        "\n",
        "source = \"\" #@param {type:\"string\"}\n",
        "destination = \"\" #@param {type:\"string\"}\n",
        "sa = \"\" #@param {type:\"string\"}\n",
        "\n",
        "!python3 rclone_sa_magic.py -s \"$source\" -d \"$destination\" -b \"$sa\" -e 600\n",
        "\n",
        "#@markdown <b>- sa 起始默认1如果你已经拷贝了7.5T了，那么24小时里面应该放 11 一个SA 750GB.\n",
        "\n"
      ],
      "execution_count": null,
      "outputs": []
    },
    {
      "cell_type": "markdown",
      "metadata": {
        "colab_type": "text",
        "id": "NKQKbbO5jC8f"
      },
      "source": [
        "### 附加功能 (检查资源大小和数量)"
      ]
    },
    {
      "cell_type": "code",
      "metadata": {
        "colab_type": "code",
        "cellView": "form",
        "id": "XWWAn0uujC8j",
        "colab": {}
      },
      "source": [
        "#@markdown <h4><b>←</b> 源文件的大小</h3> \n",
        "!rclone --config rclone.conf size --disable ListR src001:"
      ],
      "execution_count": null,
      "outputs": []
    },
    {
      "cell_type": "code",
      "metadata": {
        "colab_type": "code",
        "cellView": "form",
        "id": "LsChZJ2FjC8y",
        "colab": {}
      },
      "source": [
        "#@markdown <h4><b>←</b> 转存后的目标文件大小</h3> \n",
        "!rclone --config rclone.conf size --disable ListR dst001:"
      ],
      "execution_count": null,
      "outputs": []
    },
    {
      "cell_type": "code",
      "metadata": {
        "colab_type": "code",
        "cellView": "form",
        "id": "bNcxDO0AMSkk",
        "colab": {}
      },
      "source": [
        "#@markdown <h4><b>←</b> 转存后的目标文件去重</h3> \n",
        "!rclone --config rclone.conf dedupe dst001:"
      ],
      "execution_count": null,
      "outputs": []
    },
    {
      "cell_type": "markdown",
      "metadata": {
        "id": "Z-0L1Mousoom",
        "colab_type": "text"
      },
      "source": [
        "###<font size=4 color=\"red\"><b><center>当你第一次运行时最后请备份SA(backup),下次在拷贝时只需要步骤1配置环境,3(之前下载好的credentials.json导入）把Services Account还原(restore)到配置环境就可以开始拷贝了</center></b></font>"
      ]
    },
    {
      "cell_type": "code",
      "metadata": {
        "id": "_1pqEmj2nR3_",
        "colab_type": "code",
        "cellView": "form",
        "colab": {}
      },
      "source": [
        "#@markdown <br><center><img src='https://upload.wikimedia.org/wikipedia/commons/thumb/d/da/Google_Drive_logo.png/600px-Google_Drive_logo.png' height=\"50\" alt=\"Gdrive logo\"/></center>\n",
        "#@markdown <center><h3>加载谷歌盘备份还原 Autoclone 下的 Accounts 文件夹。</h3></center><br>\n",
        "\n",
        "from google.colab import drive\n",
        "drive.mount('/content/drive')\n",
        "\n",
        "MODE = \"RESTORE\" #@param [\"BACKUP\", \"RESTORE\"]\n",
        "#备份SA!\n",
        "if MODE == \"BACKUP\": \n",
        "  !rclone copy \"/content/AutoRclone/accounts/\" \"/content/drive/My Drive/accounts/\"\n",
        "elif MODE == \"RESTORE\":\n",
        "  !rclone copy \"/content/drive/My Drive/accounts/\" \"/content/AutoRclone/accounts/\""
      ],
      "execution_count": null,
      "outputs": []
    },
    {
      "cell_type": "markdown",
      "metadata": {
        "id": "K6yDnWXvlxfb",
        "colab_type": "text"
      },
      "source": [
        "### <font size=5px color=\"purple\"><b><center> ✧  Gclone 进阶魔改版安装-支持SA自动切换，支持{目录id}后,跟后续路径如 {团队盘id}/media/xxx/</center></h6>"
      ]
    },
    {
      "cell_type": "code",
      "metadata": {
        "id": "TxEYMYh0hMU6",
        "colab_type": "code",
        "cellView": "form",
        "colab": {}
      },
      "source": [
        "#@title  ←  Gclone 环境配置安装\n",
        "!bash <(wget -qO- https://git.io/gclone.sh)"
      ],
      "execution_count": null,
      "outputs": []
    },
    {
      "cell_type": "code",
      "metadata": {
        "id": "2y9lJItbhbOy",
        "colab_type": "code",
        "cellView": "form",
        "colab": {}
      },
      "source": [
        "!gclone config\n",
        "\n",
        "#@markdown <p><b><h3><center> 只要配置一次，备份了以后只要一键还原就可以了</b></center> </p>\n",
        "#@markdown <p>- 第一步选择 n ，然后给remote新的名这里用 gc <font color=red>\"这个名字以后要拷贝时用到的name\"</font> </p>\n",
        "#@markdown <p>- 第二部选择 13，client_id 和 client_secret 默认不填。</p>\n",
        "#@markdown <p>- 第三步选择 scope 填1 ，root_folder_id 默认不填。</p>\n",
        "#@markdown <p>- 第三步重要关键的一步打开左边colab 文件夹，找到 Autorclone/accounts 下的任意 json 文件右键copy path.如 = /content/AutoRclone/accounts/02d62cb52b2ac72d2c78c5b1b529b202acaf591a.json </p>\n",
        "#@markdown <p>- 第五步 service_account_file_path> 填入 /content/AutoRclone/accounts/ </p>\n",
        "#@markdown <p>- 第六步 Edit advanced config? (y/n) 选择 n .</p>\n",
        "#@markdown <p>- 第七步 Configure this as a team drive? 填 y ."
      ],
      "execution_count": null,
      "outputs": []
    },
    {
      "cell_type": "code",
      "metadata": {
        "id": "lUyZKS7chofc",
        "colab_type": "code",
        "cellView": "form",
        "colab": {}
      },
      "source": [
        "#@markdown <h1> <p><b><center><font color=\"pink\">开始用 Gclone 拷贝</center></h>\n",
        "name = \"\" #@param {type:\"string\"}\n",
        "source = \"\" #@param {type:\"string\"}\n",
        "destination = \"\" #@param {type:\"string\"}\n",
        "folder = \"\" #@param {type:\"string\"}\n",
        "cmd = f\"gclone copy {name}:{{{source}}} {name}:{{{destination}}}{folder} --drive-server-side-across-configs --transfers 30 -v\"\n",
        "!$cmd\n",
        "#@markdown <p>- name為gclone设置裡面remote的name\n",
        "#@markdown <p>- folder 是要保存的文件夹格式是 /电影/国产/成龙合集 不可以空格.</p>\n",
        "#@markdown <p>- 如果怕掉档案就多执行1次或2次，自动跳过已有资源。</p>"
      ],
      "execution_count": null,
      "outputs": []
    },
    {
      "cell_type": "code",
      "metadata": {
        "id": "J6UD7xAr1Mte",
        "colab_type": "code",
        "cellView": "form",
        "colab": {}
      },
      "source": [
        "#@markdown <h3><b>←</b>查資料夾大小</h3>\n",
        "name = \"\" #@param {type:\"string\"}\n",
        "id = \"\" #@param {type:\"string\"}\n",
        "cmd = f\"gclone size {name}:{{{id}}} --disable listr --transfers 10\"\n",
        "!$cmd\n",
        "#@markdown <p>- name為gclone设置裡面remote的name\n",
        "#@markdown <p>- id 可以是源分享id或已经拷贝的 文件夹id"
      ],
      "execution_count": null,
      "outputs": []
    },
    {
      "cell_type": "code",
      "metadata": {
        "id": "sDwfInCbMVsL",
        "colab_type": "code",
        "cellView": "form",
        "colab": {}
      },
      "source": [
        "#@markdown <h3> <p><center>Gclone去重复工具</center></h>\n",
        "name = \"\" #@param {type:\"string\"}\n",
        "id = \"\" #@param {type:\"string\"}\n",
        "cmd = f\"gclone dedupe newest {name}:{{{id}}} --drive-server-side-across-configs --disable listr -v --tpslimit 5\"\n",
        "!$cmd\n",
        "#@markdown <p>- name為gclone设置裡面remote的name\n",
        "#@markdown <p>- id 可以是团队盘根目录id， 也可以是里面文件夹 id.</p>"
      ],
      "execution_count": null,
      "outputs": []
    },
    {
      "cell_type": "code",
      "metadata": {
        "id": "cy_hNQxHn-jO",
        "colab_type": "code",
        "cellView": "form",
        "colab": {}
      },
      "source": [
        "#@markdown <br><center></center>\n",
        "#@markdown <center><h3>一键备份还原 Gclone 配置文件-<font color=\"red\">以后还原了就不需要配置了</font></h3></center><br>\n",
        "\n",
        "from google.colab import drive\n",
        "drive.mount('/content/drive')\n",
        "\n",
        "MODE = \"RESTORE\" #@param [\"BACKUP\", \"RESTORE\"]\n",
        "#备份SA!\n",
        "if MODE == \"BACKUP\": \n",
        "  !rclone copy \"/root/.config/rclone/rclone.conf\" \"/content/drive/My Drive/gclone/\"\n",
        "elif MODE == \"RESTORE\":\n",
        "  !rclone copy \"/content/drive/My Drive/gclone/\" \"/root/.config/rclone/\""
      ],
      "execution_count": null,
      "outputs": []
    }
  ]
}